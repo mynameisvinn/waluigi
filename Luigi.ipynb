{
 "cells": [
  {
   "cell_type": "markdown",
   "metadata": {},
   "source": [
    "https://gist.github.com/MattiaCinelli/819b1527bf6c6418ff262db8fa4b3e2f#file-generatewords_luigi-py\n",
    "\n"
   ]
  },
  {
   "cell_type": "code",
   "execution_count": 212,
   "metadata": {},
   "outputs": [],
   "source": [
    "class Luigi():\n",
    "    def __init__(self):\n",
    "        self.executed = False\n",
    "    \n",
    "    def __call__(self):\n",
    "        if not self.executed:\n",
    "            \n",
    "            # first, execute parents\n",
    "            print('executing parents')\n",
    "            if len(self.requires()) > 0:\n",
    "                for parent in self.requires():\n",
    "                    parent()\n",
    "            \n",
    "            # step 2 - run itslef\n",
    "            self.run()\n",
    "            \n",
    "            # update status\n",
    "            self.executed = True\n",
    "        else:\n",
    "            print(\"executed\")\n",
    "        \n",
    "    def requires(self):\n",
    "        return []\n",
    "    \n",
    "class Hello(Luigi):    \n",
    "    def run(self):\n",
    "        print(\"running hello\")\n",
    "        words = ['apple', 'banana','grapefruit']\n",
    "        with open(self.output(), \"w\") as f:\n",
    "            for word in words:\n",
    "                f.write(word + \"\\n\")\n",
    "        \n",
    "    def output(self):\n",
    "        return 'words.txt'\n",
    "    \n",
    "class CountLetters(Luigi):\n",
    "    def requires(self):\n",
    "        return [Hello()]\n",
    "\n",
    "    def output(self):\n",
    "        return 'letter_counts.txt'\n",
    "\n",
    "    def run(self):\n",
    "        print(\"running countletters\")\n",
    "        f = open(\"words.txt\", \"r\")\n",
    "        print(f.read()) \n",
    "        f.close()\n",
    "        \n",
    "        f = open(\"words.txt\", \"a\")\n",
    "        f.write(\"hw\")\n",
    "        f.close()\n",
    "        \n",
    "class Final(Luigi):\n",
    "    def requires(self):\n",
    "        return [CountLetters()]\n",
    "\n",
    "    def output(self):\n",
    "        return 'letter_counts.txt'\n",
    "\n",
    "    def run(self):\n",
    "        print(\"executing final\")\n",
    "        f = open(\"words.txt\", \"r\")\n",
    "        print(f.read()) \n",
    "        f.close()"
   ]
  },
  {
   "cell_type": "code",
   "execution_count": 213,
   "metadata": {},
   "outputs": [
    {
     "name": "stdout",
     "output_type": "stream",
     "text": [
      "executing parents\n",
      "executing parents\n",
      "executing parents\n",
      "running hello\n",
      "running countletters\n",
      "apple\n",
      "banana\n",
      "grapefruit\n",
      "\n",
      "executing final\n",
      "apple\n",
      "banana\n",
      "grapefruit\n",
      "hw\n"
     ]
    }
   ],
   "source": [
    "F = Final()\n",
    "F()"
   ]
  },
  {
   "cell_type": "code",
   "execution_count": null,
   "metadata": {},
   "outputs": [],
   "source": []
  }
 ],
 "metadata": {
  "kernelspec": {
   "display_name": "Python 3",
   "language": "python",
   "name": "python3"
  },
  "language_info": {
   "codemirror_mode": {
    "name": "ipython",
    "version": 3
   },
   "file_extension": ".py",
   "mimetype": "text/x-python",
   "name": "python",
   "nbconvert_exporter": "python",
   "pygments_lexer": "ipython3",
   "version": "3.7.6"
  }
 },
 "nbformat": 4,
 "nbformat_minor": 4
}
