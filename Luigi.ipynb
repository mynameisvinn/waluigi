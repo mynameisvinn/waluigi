{
 "cells": [
  {
   "cell_type": "code",
   "execution_count": null,
   "metadata": {},
   "outputs": [],
   "source": [
    "from Waluigi import WaluigiTask"
   ]
  },
  {
   "cell_type": "code",
   "execution_count": null,
   "metadata": {},
   "outputs": [],
   "source": [
    "class AddIngredients(WaluigiTask):    \n",
    "    def run(self):\n",
    "        words = ['apple', 'banana','grapefruit']\n",
    "        with open(self.output(), \"w\") as f:\n",
    "            for word in words:\n",
    "                f.write(word + \"\\n\")\n",
    "        \n",
    "    def output(self):\n",
    "        return 'words.txt'\n",
    "    \n",
    "\n",
    "class AddGrapes(WaluigiTask):\n",
    "    def requires(self):\n",
    "        return [AddIngredients()]\n",
    "\n",
    "    def run(self):\n",
    "        with open(\"words.txt\", \"r\") as f:\n",
    "            print(f.read()) \n",
    "        \n",
    "        with open(\"words.txt\", \"a\") as f:\n",
    "            f.write(\"grapes\")\n",
    "        \n",
    "    def output(self):\n",
    "        return 'words.txt'\n",
    "        \n",
    "        \n",
    "class FinalRecipe(WaluigiTask):\n",
    "    def requires(self):\n",
    "        return [AddGrapes()]\n",
    "\n",
    "    def run(self):\n",
    "        with open(\"words.txt\", \"r\") as f:\n",
    "            print(f.read()) \n",
    "            \n",
    "    def output(self):\n",
    "        return 'letter_counts.txt'"
   ]
  },
  {
   "cell_type": "code",
   "execution_count": null,
   "metadata": {},
   "outputs": [],
   "source": [
    "F = FinalRecipe()\n",
    "F()"
   ]
  },
  {
   "cell_type": "code",
   "execution_count": null,
   "metadata": {},
   "outputs": [],
   "source": []
  }
 ],
 "metadata": {
  "kernelspec": {
   "display_name": "Python 3",
   "language": "python",
   "name": "python3"
  },
  "language_info": {
   "codemirror_mode": {
    "name": "ipython",
    "version": 3
   },
   "file_extension": ".py",
   "mimetype": "text/x-python",
   "name": "python",
   "nbconvert_exporter": "python",
   "pygments_lexer": "ipython3",
   "version": "3.7.6"
  }
 },
 "nbformat": 4,
 "nbformat_minor": 4
}
